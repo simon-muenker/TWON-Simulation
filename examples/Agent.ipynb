{
 "cells": [
  {
   "cell_type": "code",
   "execution_count": 1,
   "metadata": {},
   "outputs": [],
   "source": [
    "import { Agent } from \"../src/index.ts\";\n",
    "import type { HistoryItem, Notification, Thread } from \"../src/types\";"
   ]
  },
  {
   "cell_type": "code",
   "execution_count": 2,
   "metadata": {},
   "outputs": [],
   "source": [
    "// a test agent without a feed, history or notifications\n",
    "class TestAgent extends Agent {\n",
    "  getNotifications(): Array<Notification> {\n",
    "    return [];\n",
    "  }\n",
    "  getFeed(): Array<Thread> {\n",
    "    return [];\n",
    "  }\n",
    "}"
   ]
  },
  {
   "cell_type": "code",
   "execution_count": 3,
   "metadata": {},
   "outputs": [
    {
     "data": {
      "text/plain": [
       "TestAgent {\n",
       "  label: \u001b[32m\"test\"\u001b[39m,\n",
       "  model: \u001b[32m\"llama3.1:8b-instruct-q6_K\"\u001b[39m,\n",
       "  instruction: \u001b[32m\"You are a helpful assistant.\"\u001b[39m,\n",
       "  history: [],\n",
       "  actionBudget: \u001b[33m50\u001b[39m,\n",
       "  actionCosts: { read: \u001b[33m1\u001b[39m, post: \u001b[33m5\u001b[39m, reply: \u001b[33m5\u001b[39m }\n",
       "}"
      ]
     },
     "execution_count": 3,
     "metadata": {},
     "output_type": "execute_result"
    }
   ],
   "source": [
    "// create a dummy agent\n",
    "const testAgent = new TestAgent(\"test\");\n",
    "testAgent;"
   ]
  },
  {
   "cell_type": "code",
   "execution_count": 4,
   "metadata": {},
   "outputs": [
    {
     "name": "stdout",
     "output_type": "stream",
     "text": [
      "\"Just learned how to harness the power of async/await in JavaScript! My code is now more efficient and scalable #JavaScript\"\n"
     ]
    }
   ],
   "source": [
    "const post = await testAgent.post(\"JavaScript\");\n",
    "console.log(post);"
   ]
  },
  {
   "cell_type": "code",
   "execution_count": 5,
   "metadata": {},
   "outputs": [
    {
     "data": {
      "text/plain": [
       "TestAgent {\n",
       "  label: \u001b[32m\"test\"\u001b[39m,\n",
       "  model: \u001b[32m\"llama3.1:8b-instruct-q6_K\"\u001b[39m,\n",
       "  instruction: \u001b[32m\"You are a helpful assistant.\"\u001b[39m,\n",
       "  history: [\n",
       "    {\n",
       "      type: \u001b[32m\"post\"\u001b[39m,\n",
       "      stimulus: \u001b[32m\"JavaScript\"\u001b[39m,\n",
       "      response: \u001b[32m'\"Just learned how to harness the power of async/await in JavaScript! My code is now more efficient and scalable #JavaScript\"'\u001b[39m\n",
       "    }\n",
       "  ],\n",
       "  actionBudget: \u001b[33m45\u001b[39m,\n",
       "  actionCosts: { read: \u001b[33m1\u001b[39m, post: \u001b[33m5\u001b[39m, reply: \u001b[33m5\u001b[39m }\n",
       "}"
      ]
     },
     "execution_count": 5,
     "metadata": {},
     "output_type": "execute_result"
    }
   ],
   "source": [
    "testAgent;"
   ]
  },
  {
   "cell_type": "code",
   "execution_count": 6,
   "metadata": {},
   "outputs": [
    {
     "data": {
      "text/plain": [
       "TestAgent {\n",
       "  label: \u001b[32m\"test\"\u001b[39m,\n",
       "  model: \u001b[32m\"llama3.1:8b-instruct-q6_K\"\u001b[39m,\n",
       "  instruction: \u001b[32m\"You are a helpful assistant.\"\u001b[39m,\n",
       "  history: [\n",
       "    {\n",
       "      type: \u001b[32m\"post\"\u001b[39m,\n",
       "      stimulus: \u001b[32m\"JavaScript\"\u001b[39m,\n",
       "      response: \u001b[32m'\"Just learned how to harness the power of async/await in JavaScript! My code is now more efficient and scalable #JavaScript\"'\u001b[39m\n",
       "    },\n",
       "    {\n",
       "      type: \u001b[32m\"read\"\u001b[39m,\n",
       "      stimulus: \u001b[32m\"JavaScript, one of the most popular programming languages.\"\u001b[39m\n",
       "    }\n",
       "  ],\n",
       "  actionBudget: \u001b[33m44\u001b[39m,\n",
       "  actionCosts: { read: \u001b[33m1\u001b[39m, post: \u001b[33m5\u001b[39m, reply: \u001b[33m5\u001b[39m }\n",
       "}"
      ]
     },
     "execution_count": 6,
     "metadata": {},
     "output_type": "execute_result"
    }
   ],
   "source": [
    "testAgent.read(\"JavaScript, one of the most popular programming languages.\");\n",
    "testAgent;"
   ]
  },
  {
   "cell_type": "code",
   "execution_count": 7,
   "metadata": {},
   "outputs": [
    {
     "name": "stdout",
     "output_type": "stream",
     "text": [
      "\"I disagree! JavaScript has come a long way, offering flexibility and versatility in web development #JavaScript #WebDev\"\n"
     ]
    }
   ],
   "source": [
    "const comment = await testAgent.reply(\"Javascript is the worst choice.\");\n",
    "console.log(comment);"
   ]
  },
  {
   "cell_type": "code",
   "execution_count": 8,
   "metadata": {},
   "outputs": [
    {
     "data": {
      "text/plain": [
       "TestAgent {\n",
       "  label: \u001b[32m\"test\"\u001b[39m,\n",
       "  model: \u001b[32m\"llama3.1:8b-instruct-q6_K\"\u001b[39m,\n",
       "  instruction: \u001b[32m\"You are a helpful assistant.\"\u001b[39m,\n",
       "  history: [\n",
       "    {\n",
       "      type: \u001b[32m\"post\"\u001b[39m,\n",
       "      stimulus: \u001b[32m\"JavaScript\"\u001b[39m,\n",
       "      response: \u001b[32m'\"Just learned how to harness the power of async/await in JavaScript! My code is now more efficient and scalable #JavaScript\"'\u001b[39m\n",
       "    },\n",
       "    {\n",
       "      type: \u001b[32m\"read\"\u001b[39m,\n",
       "      stimulus: \u001b[32m\"JavaScript, one of the most popular programming languages.\"\u001b[39m\n",
       "    },\n",
       "    {\n",
       "      type: \u001b[32m\"reply\"\u001b[39m,\n",
       "      stimulus: \u001b[32m\"Javascript is the worst choice.\"\u001b[39m,\n",
       "      response: \u001b[32m'\"I disagree! JavaScript has come a long way, offering flexibility and versatility in web development #JavaScript #WebDev\"'\u001b[39m\n",
       "    }\n",
       "  ],\n",
       "  actionBudget: \u001b[33m39\u001b[39m,\n",
       "  actionCosts: { read: \u001b[33m1\u001b[39m, post: \u001b[33m5\u001b[39m, reply: \u001b[33m5\u001b[39m }\n",
       "}"
      ]
     },
     "execution_count": 8,
     "metadata": {},
     "output_type": "execute_result"
    }
   ],
   "source": [
    "testAgent;"
   ]
  }
 ],
 "metadata": {
  "kernelspec": {
   "display_name": "Deno",
   "language": "typescript",
   "name": "deno"
  },
  "language_info": {
   "codemirror_mode": "typescript",
   "file_extension": ".ts",
   "mimetype": "text/x.typescript",
   "name": "typescript",
   "nbconvert_exporter": "script",
   "pygments_lexer": "typescript",
   "version": "5.6.2"
  }
 },
 "nbformat": 4,
 "nbformat_minor": 2
}
