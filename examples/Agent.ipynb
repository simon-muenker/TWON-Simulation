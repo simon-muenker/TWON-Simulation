{
 "cells": [
  {
   "cell_type": "code",
   "execution_count": 4,
   "metadata": {},
   "outputs": [
    {
     "ename": "TypeError",
     "evalue": "Module not found \"file:///Users/simon/Repositories/TWON-Collection/TWON-Simulation/src/constants.ts\".\n    at \u001b[0m\u001b[36mfile:///Users/simon/Repositories/TWON-Collection/TWON-Simulation/src/agent.ts\u001b[0m:\u001b[0m\u001b[33m2\u001b[0m:\u001b[0m\u001b[33m32\u001b[0m",
     "output_type": "error",
     "traceback": [
      "Stack trace:",
      "TypeError: Module not found \"file:///Users/simon/Repositories/TWON-Collection/TWON-Simulation/src/constants.ts\".",
      "    at \u001b[0m\u001b[36mfile:///Users/simon/Repositories/TWON-Collection/TWON-Simulation/src/agent.ts\u001b[0m:\u001b[0m\u001b[33m2\u001b[0m:\u001b[0m\u001b[33m32\u001b[0m",
      "    at async <anonymous>:1:40"
     ]
    }
   ],
   "source": [
    "import { Agent } from \"../src/index.ts\";\n",
    "import type { HistoryItem, Notification, Thread } from \"../src/_types.ts\";"
   ]
  },
  {
   "cell_type": "code",
   "execution_count": 12,
   "metadata": {},
   "outputs": [],
   "source": [
    "// a test agent\n",
    "class TestAgent extends Agent {\n",
    "  getNotifications(): Array<Notification> {\n",
    "    return [];\n",
    "  }\n",
    "  getFeed(): Array<Thread> {\n",
    "    return [\n",
    "      {\n",
    "        post: {\n",
    "          author: 1,\n",
    "          message: \"I really like JavaScript\",\n",
    "          stats: {\n",
    "            likes: 2,\n",
    "            dislikes: 0,\n",
    "            shares: 0,\n",
    "          },\n",
    "        },\n",
    "        replies: [],\n",
    "      },\n",
    "      {\n",
    "        post: {\n",
    "          author: 1,\n",
    "          message: \"JavaScript is the worst choice.\",\n",
    "          stats: {\n",
    "            likes: 0,\n",
    "            dislikes: 2,\n",
    "            shares: 0,\n",
    "          },\n",
    "        },\n",
    "        replies: [],\n",
    "      },\n",
    "    ];\n",
    "  }\n",
    "}"
   ]
  },
  {
   "cell_type": "code",
   "execution_count": 13,
   "metadata": {},
   "outputs": [
    {
     "data": {
      "text/plain": [
       "TestAgent {\n",
       "  label: \u001b[32m\"test\"\u001b[39m,\n",
       "  model: \u001b[32m\"llama3.1:8b-instruct-q6_K\"\u001b[39m,\n",
       "  instruction: \u001b[32m\"You are a helpful assistant.\"\u001b[39m,\n",
       "  history: [],\n",
       "  actionBudget: \u001b[33m50\u001b[39m,\n",
       "  actionCosts: { read: \u001b[33m1\u001b[39m, post: \u001b[33m5\u001b[39m, reply: \u001b[33m5\u001b[39m }\n",
       "}"
      ]
     },
     "execution_count": 13,
     "metadata": {},
     "output_type": "execute_result"
    }
   ],
   "source": [
    "// create a dummy agent\n",
    "const testAgent = new TestAgent(\"test\");\n",
    "testAgent;"
   ]
  },
  {
   "cell_type": "code",
   "execution_count": 14,
   "metadata": {},
   "outputs": [
    {
     "name": "stdout",
     "output_type": "stream",
     "text": [
      "\"Mastering JavaScript is key to web development! Learn the basics, build projects & stay up-to-date with the latest features #JavaScript #WebDev\"\n"
     ]
    }
   ],
   "source": [
    "const post = await testAgent.post(\"JavaScript\");\n",
    "console.log(post);"
   ]
  },
  {
   "cell_type": "code",
   "execution_count": 15,
   "metadata": {},
   "outputs": [
    {
     "data": {
      "text/plain": [
       "TestAgent {\n",
       "  label: \u001b[32m\"test\"\u001b[39m,\n",
       "  model: \u001b[32m\"llama3.1:8b-instruct-q6_K\"\u001b[39m,\n",
       "  instruction: \u001b[32m\"You are a helpful assistant.\"\u001b[39m,\n",
       "  history: [\n",
       "    {\n",
       "      type: \u001b[32m\"post\"\u001b[39m,\n",
       "      stimulus: \u001b[32m\"JavaScript\"\u001b[39m,\n",
       "      response: \u001b[32m'\"Mastering JavaScript is key to web development! Learn the basics, build projects & stay up-to-date with the latest features #JavaScript #WebDev\"'\u001b[39m\n",
       "    }\n",
       "  ],\n",
       "  actionBudget: \u001b[33m45\u001b[39m,\n",
       "  actionCosts: { read: \u001b[33m1\u001b[39m, post: \u001b[33m5\u001b[39m, reply: \u001b[33m5\u001b[39m }\n",
       "}"
      ]
     },
     "execution_count": 15,
     "metadata": {},
     "output_type": "execute_result"
    }
   ],
   "source": [
    "testAgent;"
   ]
  },
  {
   "cell_type": "code",
   "execution_count": 16,
   "metadata": {},
   "outputs": [
    {
     "data": {
      "text/plain": [
       "TestAgent {\n",
       "  label: \u001b[32m\"test\"\u001b[39m,\n",
       "  model: \u001b[32m\"llama3.1:8b-instruct-q6_K\"\u001b[39m,\n",
       "  instruction: \u001b[32m\"You are a helpful assistant.\"\u001b[39m,\n",
       "  history: [\n",
       "    {\n",
       "      type: \u001b[32m\"post\"\u001b[39m,\n",
       "      stimulus: \u001b[32m\"JavaScript\"\u001b[39m,\n",
       "      response: \u001b[32m'\"Mastering JavaScript is key to web development! Learn the basics, build projects & stay up-to-date with the latest features #JavaScript #WebDev\"'\u001b[39m\n",
       "    },\n",
       "    {\n",
       "      type: \u001b[32m\"read\"\u001b[39m,\n",
       "      stimulus: \u001b[32m\"JavaScript, one of the most popular programming languages.\"\u001b[39m\n",
       "    }\n",
       "  ],\n",
       "  actionBudget: \u001b[33m44\u001b[39m,\n",
       "  actionCosts: { read: \u001b[33m1\u001b[39m, post: \u001b[33m5\u001b[39m, reply: \u001b[33m5\u001b[39m }\n",
       "}"
      ]
     },
     "execution_count": 16,
     "metadata": {},
     "output_type": "execute_result"
    }
   ],
   "source": [
    "testAgent.read(\"JavaScript, one of the most popular programming languages.\");\n",
    "testAgent;"
   ]
  },
  {
   "cell_type": "code",
   "execution_count": 17,
   "metadata": {},
   "outputs": [
    {
     "name": "stdout",
     "output_type": "stream",
     "text": [
      "\"Disagree! JavaScript is powerful & versatile, used by top tech giants like Google & Facebook for complex applications #javascript #programming\"\n"
     ]
    }
   ],
   "source": [
    "const comment = await testAgent.reply(\"Javascript is the worst choice.\");\n",
    "console.log(comment);"
   ]
  },
  {
   "cell_type": "code",
   "execution_count": 18,
   "metadata": {},
   "outputs": [
    {
     "data": {
      "text/plain": [
       "TestAgent {\n",
       "  label: \u001b[32m\"test\"\u001b[39m,\n",
       "  model: \u001b[32m\"llama3.1:8b-instruct-q6_K\"\u001b[39m,\n",
       "  instruction: \u001b[32m\"You are a helpful assistant.\"\u001b[39m,\n",
       "  history: [\n",
       "    {\n",
       "      type: \u001b[32m\"post\"\u001b[39m,\n",
       "      stimulus: \u001b[32m\"JavaScript\"\u001b[39m,\n",
       "      response: \u001b[32m'\"Mastering JavaScript is key to web development! Learn the basics, build projects & stay up-to-date with the latest features #JavaScript #WebDev\"'\u001b[39m\n",
       "    },\n",
       "    {\n",
       "      type: \u001b[32m\"read\"\u001b[39m,\n",
       "      stimulus: \u001b[32m\"JavaScript, one of the most popular programming languages.\"\u001b[39m\n",
       "    },\n",
       "    {\n",
       "      type: \u001b[32m\"reply\"\u001b[39m,\n",
       "      stimulus: \u001b[32m\"Javascript is the worst choice.\"\u001b[39m,\n",
       "      response: \u001b[32m'\"Disagree! JavaScript is powerful & versatile, used by top tech giants like Google & Facebook for complex applications #javascript #programming\"'\u001b[39m\n",
       "    }\n",
       "  ],\n",
       "  actionBudget: \u001b[33m39\u001b[39m,\n",
       "  actionCosts: { read: \u001b[33m1\u001b[39m, post: \u001b[33m5\u001b[39m, reply: \u001b[33m5\u001b[39m }\n",
       "}"
      ]
     },
     "execution_count": 18,
     "metadata": {},
     "output_type": "execute_result"
    }
   ],
   "source": [
    "testAgent;"
   ]
  }
 ],
 "metadata": {
  "kernelspec": {
   "display_name": "Deno",
   "language": "typescript",
   "name": "deno"
  },
  "language_info": {
   "codemirror_mode": "typescript",
   "file_extension": ".ts",
   "mimetype": "text/x.typescript",
   "name": "typescript",
   "nbconvert_exporter": "script",
   "pygments_lexer": "typescript",
   "version": "5.6.2"
  }
 },
 "nbformat": 4,
 "nbformat_minor": 2
}
